{
  "nbformat": 4,
  "nbformat_minor": 0,
  "metadata": {
    "colab": {
      "provenance": [],
      "authorship_tag": "ABX9TyOjrqS1+UQbYJuJY6flQ0XH",
      "include_colab_link": true
    },
    "kernelspec": {
      "name": "python3",
      "display_name": "Python 3"
    },
    "language_info": {
      "name": "python"
    }
  },
  "cells": [
    {
      "cell_type": "markdown",
      "metadata": {
        "id": "view-in-github",
        "colab_type": "text"
      },
      "source": [
        "<a href=\"https://colab.research.google.com/github/ReemaQaiserKhan/Object-Extraction-from-Rock-Art-Images/blob/main/Object%20Extraction%20from%20Rock%20Art%20Images.ipynb\" target=\"_parent\"><img src=\"https://colab.research.google.com/assets/colab-badge.svg\" alt=\"Open In Colab\"/></a>"
      ]
    },
    {
      "cell_type": "markdown",
      "source": [
        "<font color='purple'><u>**Increase the Intensity**</font></u>"
      ],
      "metadata": {
        "id": "Gj6rB4XI5iqK"
      }
    },
    {
      "cell_type": "code",
      "execution_count": 11,
      "metadata": {
        "colab": {
          "base_uri": "https://localhost:8080/"
        },
        "id": "TZlA-w2a2xNt",
        "outputId": "915513b9-64ed-43fa-8fb1-6421040585ff"
      },
      "outputs": [
        {
          "output_type": "stream",
          "name": "stdout",
          "text": [
            "Requirement already satisfied: scikit-image in /usr/local/lib/python3.10/dist-packages (0.19.3)\n",
            "Requirement already satisfied: numpy>=1.17.0 in /usr/local/lib/python3.10/dist-packages (from scikit-image) (1.23.5)\n",
            "Requirement already satisfied: scipy>=1.4.1 in /usr/local/lib/python3.10/dist-packages (from scikit-image) (1.10.1)\n",
            "Requirement already satisfied: networkx>=2.2 in /usr/local/lib/python3.10/dist-packages (from scikit-image) (3.1)\n",
            "Requirement already satisfied: pillow!=7.1.0,!=7.1.1,!=8.3.0,>=6.1.0 in /usr/local/lib/python3.10/dist-packages (from scikit-image) (9.4.0)\n",
            "Requirement already satisfied: imageio>=2.4.1 in /usr/local/lib/python3.10/dist-packages (from scikit-image) (2.31.1)\n",
            "Requirement already satisfied: tifffile>=2019.7.26 in /usr/local/lib/python3.10/dist-packages (from scikit-image) (2023.8.12)\n",
            "Requirement already satisfied: PyWavelets>=1.1.1 in /usr/local/lib/python3.10/dist-packages (from scikit-image) (1.4.1)\n",
            "Requirement already satisfied: packaging>=20.0 in /usr/local/lib/python3.10/dist-packages (from scikit-image) (23.1)\n"
          ]
        }
      ],
      "source": [
        "!pip install scikit-image"
      ]
    },
    {
      "cell_type": "code",
      "source": [
        "from PIL import Image, ImageEnhance\n",
        "\n",
        "# Load the Aboriginal art image\n",
        "image = Image.open(\"/content/800wm.jpg\")\n",
        "\n",
        "# Apply image enhancement to increase contrast\n",
        "enhancer = ImageEnhance.Contrast(image)\n",
        "enhanced_image = enhancer.enhance(1.5)  # Adjust the enhancement factor as needed\n",
        "\n",
        "# Adjust color balance and saturation\n",
        "enhancer = ImageEnhance.Color(enhanced_image)\n",
        "color_adjusted_image = enhancer.enhance(1.2)  # Adjust the enhancement factor as needed\n",
        "\n",
        "# Save or display the processed image\n",
        "color_adjusted_image.show()\n",
        "color_adjusted_image.save(\"intensified_image.jpg\")\n",
        "\n"
      ],
      "metadata": {
        "id": "1Ism_AJv24Ew"
      },
      "execution_count": 12,
      "outputs": []
    },
    {
      "cell_type": "markdown",
      "source": [
        "<font color='purple'><u>**Remove the Background**</font></u>"
      ],
      "metadata": {
        "id": "fI_weFOJ6jlj"
      }
    },
    {
      "cell_type": "code",
      "source": [
        "!pip install Pillow"
      ],
      "metadata": {
        "colab": {
          "base_uri": "https://localhost:8080/"
        },
        "id": "JsimI_Dh4TuT",
        "outputId": "41bbc4f7-96fd-4c5e-a79d-6f41748bbdf1"
      },
      "execution_count": 6,
      "outputs": [
        {
          "output_type": "stream",
          "name": "stdout",
          "text": [
            "Requirement already satisfied: Pillow in /usr/local/lib/python3.10/dist-packages (9.4.0)\n"
          ]
        }
      ]
    },
    {
      "cell_type": "code",
      "source": [
        "!pip install rembg"
      ],
      "metadata": {
        "colab": {
          "base_uri": "https://localhost:8080/"
        },
        "id": "kUFf2qRd4bdD",
        "outputId": "66c50262-d72c-4163-dc90-86aee353d5eb"
      },
      "execution_count": 7,
      "outputs": [
        {
          "output_type": "stream",
          "name": "stdout",
          "text": [
            "Collecting rembg\n",
            "  Downloading rembg-2.0.50-py3-none-any.whl (26 kB)\n",
            "Requirement already satisfied: numpy in /usr/local/lib/python3.10/dist-packages (from rembg) (1.23.5)\n",
            "Collecting onnxruntime (from rembg)\n",
            "  Downloading onnxruntime-1.15.1-cp310-cp310-manylinux_2_17_x86_64.manylinux2014_x86_64.whl (5.9 MB)\n",
            "\u001b[2K     \u001b[90m━━━━━━━━━━━━━━━━━━━━━━━━━━━━━━━━━━━━━━━━\u001b[0m \u001b[32m5.9/5.9 MB\u001b[0m \u001b[31m20.3 MB/s\u001b[0m eta \u001b[36m0:00:00\u001b[0m\n",
            "\u001b[?25hRequirement already satisfied: opencv-python-headless in /usr/local/lib/python3.10/dist-packages (from rembg) (4.8.0.76)\n",
            "Requirement already satisfied: pillow in /usr/local/lib/python3.10/dist-packages (from rembg) (9.4.0)\n",
            "Requirement already satisfied: pooch in /usr/local/lib/python3.10/dist-packages (from rembg) (1.7.0)\n",
            "Collecting pymatting (from rembg)\n",
            "  Downloading PyMatting-1.1.8-py3-none-any.whl (47 kB)\n",
            "\u001b[2K     \u001b[90m━━━━━━━━━━━━━━━━━━━━━━━━━━━━━━━━━━━━━━━━\u001b[0m \u001b[32m47.7/47.7 kB\u001b[0m \u001b[31m4.8 MB/s\u001b[0m eta \u001b[36m0:00:00\u001b[0m\n",
            "\u001b[?25hRequirement already satisfied: scikit-image in /usr/local/lib/python3.10/dist-packages (from rembg) (0.19.3)\n",
            "Requirement already satisfied: scipy in /usr/local/lib/python3.10/dist-packages (from rembg) (1.10.1)\n",
            "Requirement already satisfied: tqdm in /usr/local/lib/python3.10/dist-packages (from rembg) (4.66.1)\n",
            "Collecting coloredlogs (from onnxruntime->rembg)\n",
            "  Downloading coloredlogs-15.0.1-py2.py3-none-any.whl (46 kB)\n",
            "\u001b[2K     \u001b[90m━━━━━━━━━━━━━━━━━━━━━━━━━━━━━━━━━━━━━━━━\u001b[0m \u001b[32m46.0/46.0 kB\u001b[0m \u001b[31m4.3 MB/s\u001b[0m eta \u001b[36m0:00:00\u001b[0m\n",
            "\u001b[?25hRequirement already satisfied: flatbuffers in /usr/local/lib/python3.10/dist-packages (from onnxruntime->rembg) (23.5.26)\n",
            "Requirement already satisfied: packaging in /usr/local/lib/python3.10/dist-packages (from onnxruntime->rembg) (23.1)\n",
            "Requirement already satisfied: protobuf in /usr/local/lib/python3.10/dist-packages (from onnxruntime->rembg) (3.20.3)\n",
            "Requirement already satisfied: sympy in /usr/local/lib/python3.10/dist-packages (from onnxruntime->rembg) (1.12)\n",
            "Requirement already satisfied: platformdirs>=2.5.0 in /usr/local/lib/python3.10/dist-packages (from pooch->rembg) (3.10.0)\n",
            "Requirement already satisfied: requests>=2.19.0 in /usr/local/lib/python3.10/dist-packages (from pooch->rembg) (2.31.0)\n",
            "Requirement already satisfied: numba!=0.49.0 in /usr/local/lib/python3.10/dist-packages (from pymatting->rembg) (0.56.4)\n",
            "Requirement already satisfied: networkx>=2.2 in /usr/local/lib/python3.10/dist-packages (from scikit-image->rembg) (3.1)\n",
            "Requirement already satisfied: imageio>=2.4.1 in /usr/local/lib/python3.10/dist-packages (from scikit-image->rembg) (2.31.1)\n",
            "Requirement already satisfied: tifffile>=2019.7.26 in /usr/local/lib/python3.10/dist-packages (from scikit-image->rembg) (2023.8.12)\n",
            "Requirement already satisfied: PyWavelets>=1.1.1 in /usr/local/lib/python3.10/dist-packages (from scikit-image->rembg) (1.4.1)\n",
            "Requirement already satisfied: llvmlite<0.40,>=0.39.0dev0 in /usr/local/lib/python3.10/dist-packages (from numba!=0.49.0->pymatting->rembg) (0.39.1)\n",
            "Requirement already satisfied: setuptools in /usr/local/lib/python3.10/dist-packages (from numba!=0.49.0->pymatting->rembg) (67.7.2)\n",
            "Requirement already satisfied: charset-normalizer<4,>=2 in /usr/local/lib/python3.10/dist-packages (from requests>=2.19.0->pooch->rembg) (3.2.0)\n",
            "Requirement already satisfied: idna<4,>=2.5 in /usr/local/lib/python3.10/dist-packages (from requests>=2.19.0->pooch->rembg) (3.4)\n",
            "Requirement already satisfied: urllib3<3,>=1.21.1 in /usr/local/lib/python3.10/dist-packages (from requests>=2.19.0->pooch->rembg) (2.0.4)\n",
            "Requirement already satisfied: certifi>=2017.4.17 in /usr/local/lib/python3.10/dist-packages (from requests>=2.19.0->pooch->rembg) (2023.7.22)\n",
            "Collecting humanfriendly>=9.1 (from coloredlogs->onnxruntime->rembg)\n",
            "  Downloading humanfriendly-10.0-py2.py3-none-any.whl (86 kB)\n",
            "\u001b[2K     \u001b[90m━━━━━━━━━━━━━━━━━━━━━━━━━━━━━━━━━━━━━━━━\u001b[0m \u001b[32m86.8/86.8 kB\u001b[0m \u001b[31m10.1 MB/s\u001b[0m eta \u001b[36m0:00:00\u001b[0m\n",
            "\u001b[?25hRequirement already satisfied: mpmath>=0.19 in /usr/local/lib/python3.10/dist-packages (from sympy->onnxruntime->rembg) (1.3.0)\n",
            "Installing collected packages: humanfriendly, pymatting, coloredlogs, onnxruntime, rembg\n",
            "Successfully installed coloredlogs-15.0.1 humanfriendly-10.0 onnxruntime-1.15.1 pymatting-1.1.8 rembg-2.0.50\n"
          ]
        }
      ]
    },
    {
      "cell_type": "code",
      "source": [
        "# Importing Required Modules\n",
        "from rembg import remove\n",
        "from PIL import Image\n",
        "\n",
        "# Store path of the image in the variable input_path\n",
        "input_path =  '/content/intensified_image.jpg'\n",
        "\n",
        "\n",
        "# Store path of the output image in the variable output_path\n",
        "output_path = '/content/removed_background_image.png'\n",
        "\n",
        "# Processing the image\n",
        "input = Image.open(input_path)\n",
        "\n",
        "# Removing the background from the given Image\n",
        "output = remove(input)\n",
        "\n",
        "#Saving the image in the given path\n",
        "output.save(output_path)\n",
        "\n"
      ],
      "metadata": {
        "id": "m_mHMqWI4h00"
      },
      "execution_count": 13,
      "outputs": []
    },
    {
      "cell_type": "markdown",
      "source": [
        "<font color='purple'><u>**Apply Gaussian Filter**</font></u>"
      ],
      "metadata": {
        "id": "0wKvIm3E6-3N"
      }
    },
    {
      "cell_type": "code",
      "source": [
        "from PIL import Image, ImageFilter\n",
        "\n",
        "from PIL import Image\n",
        "\n",
        "# Open the RGBA image\n",
        "rgba_image = Image.open(\"/content/removed_background_image.png\")  # Replace with your image file path\n",
        "\n",
        "# Convert the image to RGB mode\n",
        "rgb_image = rgba_image.convert(\"RGB\")\n",
        "\n",
        "# Save the RGB image as JPEG\n",
        "rgb_image.save(\"/content/output_image.jpg\", \"JPEG\")\n",
        "####\n",
        "\n",
        "# Load the image (replace with your image file path)\n",
        "image = Image.open(\"/content/output_image.jpg\")\n",
        "\n",
        "# Apply Gaussian blur with a specified radius\n",
        "radius = 2  # Adjust the blur radius as needed\n",
        "blurred_image = image.filter(ImageFilter.GaussianBlur(radius))\n",
        "\n",
        "# Display the blurred image (optional)\n",
        "blurred_image.show()\n",
        "\n",
        "# Save the blurred image (optional)\n",
        "blurred_image.save(\"output_blurred_image.jpg\")\n",
        "\n"
      ],
      "metadata": {
        "id": "gj9Y0BNo4-fu"
      },
      "execution_count": 14,
      "outputs": []
    },
    {
      "cell_type": "markdown",
      "source": [
        "<font color='red'><u>**[Optional] </font><font color='purple'> Watershed Algorithm**</u>"
      ],
      "metadata": {
        "id": "X1Te0no47Zg_"
      }
    },
    {
      "cell_type": "code",
      "source": [
        "import numpy as np\n",
        "import matplotlib.pyplot as plt\n",
        "from skimage import io, color, feature, morphology, segmentation\n",
        "from scipy import ndimage as ndi\n",
        "\n",
        "# Load the image\n",
        "image = io.imread(\"/content/output_blurred_image.jpg\")  # Replace with your image file path\n",
        "\n",
        "# Convert the image to grayscale\n",
        "gray_image = color.rgb2gray(image)\n",
        "\n",
        "# Apply edge detection (e.g., Canny edge detection)\n",
        "edges = feature.canny(gray_image, sigma=1)\n",
        "\n",
        "# Apply morphological operations to clean up the edges (optional)\n",
        "edges = morphology.dilation(edges, morphology.disk(2))\n",
        "\n",
        "# Compute the distance transform\n",
        "distance = ndi.distance_transform_edt(edges)\n",
        "\n",
        "# Apply watershed segmentation\n",
        "markers = feature.peak_local_max(distance, indices=False, footprint=np.ones((3, 3)), labels=edges)\n",
        "labels = morphology.label(markers)\n",
        "segmented_image = segmentation.watershed(-distance, labels, mask=edges)\n",
        "\n",
        "# Display the segmented image\n",
        "plt.imshow(segmented_image, cmap=\"viridis\")\n",
        "plt.axis(\"off\")\n",
        "plt.show()\n",
        "\n"
      ],
      "metadata": {
        "colab": {
          "base_uri": "https://localhost:8080/",
          "height": 461
        },
        "id": "JloX46hr5TQo",
        "outputId": "2e249a11-b7f2-4731-8a9b-6694ede043e7"
      },
      "execution_count": 15,
      "outputs": [
        {
          "output_type": "stream",
          "name": "stderr",
          "text": [
            "<ipython-input-15-c59b3205629b>:22: FutureWarning: indices argument is deprecated and will be removed in version 0.20. To avoid this warning, please do not use the indices argument. Please see peak_local_max documentation for more details.\n",
            "  markers = feature.peak_local_max(distance, indices=False, footprint=np.ones((3, 3)), labels=edges)\n"
          ]
        },
        {
          "output_type": "display_data",
          "data": {
            "text/plain": [
              "<Figure size 640x480 with 1 Axes>"
            ],
            "image/png": "[encoded data removed]"
          },
          "metadata": {}
        }
      ]
    }
  ]
}